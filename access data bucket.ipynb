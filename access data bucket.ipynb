{
 "cells": [
  {
   "cell_type": "markdown",
   "metadata": {
    "tags": []
   },
   "source": [
    "# access data bucket\n",
    "\n",
    "Use Google modules for Python to access the MPR data in a GCS bucket."
   ]
  },
  {
   "cell_type": "markdown",
   "metadata": {
    "tags": []
   },
   "source": [
    "## initializations and connect client"
   ]
  },
  {
   "cell_type": "code",
   "execution_count": 51,
   "metadata": {},
   "outputs": [
    {
     "name": "stdout",
     "output_type": "stream",
     "text": [
      "Client created for project: mwrite-a835\n"
     ]
    }
   ],
   "source": [
    "from google.cloud import storage\n",
    "import os\n",
    "\n",
    "bucketName = 'mpr-research-data-uploads'\n",
    "dataFileName = os.path.join('..', 'data', blobName)\n",
    "\n",
    "client = storage.Client() # uses current project by default\n",
    "print(f'Client created for project: {client.project}')"
   ]
  },
  {
   "cell_type": "markdown",
   "metadata": {
    "tags": []
   },
   "source": [
    "## get specific bucket"
   ]
  },
  {
   "cell_type": "code",
   "execution_count": 57,
   "metadata": {},
   "outputs": [
    {
     "name": "stdout",
     "output_type": "stream",
     "text": [
      "Bucket name: \"mpr-research-data-uploads\"\n",
      "Bucket location: \"US\"\n",
      "Bucket storage class: \"STANDARD\"\n"
     ]
    }
   ],
   "source": [
    "bucket = client.get_bucket(bucketName)\n",
    "\n",
    "print(f'Bucket name: \"{bucket.name}\"')\n",
    "print(f'Bucket location: \"{bucket.location}\"')\n",
    "print(f'Bucket storage class: \"{bucket.storage_class}\"')"
   ]
  },
  {
   "cell_type": "markdown",
   "metadata": {
    "tags": []
   },
   "source": [
    "## list blobs"
   ]
  },
  {
   "cell_type": "code",
   "execution_count": 58,
   "metadata": {},
   "outputs": [
    {
     "name": "stdout",
     "output_type": "stream",
     "text": [
      "Blobs in \"mpr-research-data-uploads\":\n",
      "\t495677 - Math 216 WN 2022.tsv\n",
      "\t496007 - CLIMATE 102 001 WN 2022.tsv\n",
      "\t496915 - MOVESCI 110 WN 2022.tsv\n",
      "\t498928 - CHEM 216 100 WN 2022.tsv\n",
      "\t506914 - MATSCIE 250 100 WN 2022.tsv\n",
      "\t508768 - ECON 101 300 WN 2022.tsv\n",
      "\t516081 - STATS 250 ROMERO WN 22.tsv\n"
     ]
    }
   ],
   "source": [
    "# store GCP blob list as a Python list\n",
    "blobs = [blob for blob in bucket.list_blobs()]\n",
    "\n",
    "print(f'Blobs in \"{bucket.name}\":')\n",
    "for item in blobs:\n",
    "    print('\\t' + item.name)"
   ]
  },
  {
   "cell_type": "markdown",
   "metadata": {},
   "source": [
    "## get specific blob"
   ]
  },
  {
   "cell_type": "code",
   "execution_count": 59,
   "metadata": {},
   "outputs": [
    {
     "name": "stdout",
     "output_type": "stream",
     "text": [
      "Name: \"mpr-research-data-uploads/495677 - Math 216 WN 2022.tsv/1653279017167477\"\n",
      "Size: (5536306) bytes\n",
      "Content type: \"text/tsv\"\n",
      "Public URL: (https://storage.googleapis.com/mpr-research-data-uploads/495677%20-%20Math%20216%20WN%202022.tsv)\n"
     ]
    }
   ],
   "source": [
    "# examine the first blob\n",
    "blob = blobs[0]\n",
    "\n",
    "print(f'Name: \"{blob.id}\"')\n",
    "print(f'Size: ({blob.size}) bytes')\n",
    "print(f'Content type: \"{blob.content_type}\"')\n",
    "print(f'Public URL: ({blob.public_url})')"
   ]
  },
  {
   "cell_type": "markdown",
   "metadata": {},
   "source": [
    "## download blob to kernel directory\n",
    "This is an example of doing _something_ with a blob.  They may not _need_ to be downloaded to work with them."
   ]
  },
  {
   "cell_type": "code",
   "execution_count": 55,
   "metadata": {
    "tags": []
   },
   "outputs": [
    {
     "name": "stdout",
     "output_type": "stream",
     "text": [
      "Downloading to \"../data/495677 - Math 216 WN 2022.tsv\"…\n",
      "Downloaded blob \"495677 - Math 216 WN 2022.tsv\" to \"../data/495677 - Math 216 WN 2022.tsv\".\n"
     ]
    }
   ],
   "source": [
    "print(f'Downloading to \"{dataFileName}\"…')\n",
    "\n",
    "blob.download_to_filename(dataFileName)\n",
    "\n",
    "print(f'Downloaded blob \"{blob.name}\" to \"{dataFileName}\".')"
   ]
  },
  {
   "cell_type": "markdown",
   "metadata": {
    "tags": []
   },
   "source": [
    "## miscellaneous\n",
    "\n",
    "Some other GCS bucket operations that may be useful."
   ]
  },
  {
   "cell_type": "markdown",
   "metadata": {
    "tags": []
   },
   "source": [
    "### list buckets"
   ]
  },
  {
   "cell_type": "code",
   "execution_count": 56,
   "metadata": {},
   "outputs": [
    {
     "name": "stdout",
     "output_type": "stream",
     "text": [
      "Buckets in mwrite-a835:\n",
      "\tmpr-research-data-uploads\n",
      "\tmpr-research-data-uploads-lsloan_test\n",
      "\tmwrite-data-bucket-1\n"
     ]
    }
   ],
   "source": [
    "buckets = client.list_buckets()\n",
    "\n",
    "print(f'Buckets in {client.project}:')\n",
    "for item in buckets:\n",
    "    print('\\t' + item.name)"
   ]
  },
  {
   "cell_type": "markdown",
   "metadata": {
    "jp-MarkdownHeadingCollapsed": true,
    "tags": []
   },
   "source": [
    "# 🏁"
   ]
  }
 ],
 "metadata": {
  "environment": {
   "kernel": "python3",
   "name": "tf2-gpu.2-6.m91",
   "type": "gcloud",
   "uri": "gcr.io/deeplearning-platform-release/tf2-gpu.2-6:m91"
  },
  "kernelspec": {
   "display_name": "Python 3",
   "language": "python",
   "name": "python3"
  },
  "language_info": {
   "codemirror_mode": {
    "name": "ipython",
    "version": 3
   },
   "file_extension": ".py",
   "mimetype": "text/x-python",
   "name": "python",
   "nbconvert_exporter": "python",
   "pygments_lexer": "ipython3",
   "version": "3.7.12"
  },
  "toc-showtags": false
 },
 "nbformat": 4,
 "nbformat_minor": 4
}
